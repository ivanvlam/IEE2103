{
 "cells": [
  {
   "cell_type": "markdown",
   "metadata": {},
   "source": [
    "# <span style=\"font-family:Bebas Neue; font-size:1em;\">Proyecto Semestral - IEE2103</span>"
   ]
  },
  {
   "cell_type": "markdown",
   "metadata": {},
   "source": [
    "A partir del desarrollo en Wolfram Mathematica, se obtuvo que $s(x) = \\ \\uparrow \\uparrow _{c} \\ast \\ a \\cdot \\wedge \\left( \\frac{1 - \\frac{L}{2}}{\\frac{L}{2}} \\right)$ \n",
    "\n",
    "De esta manera, $s(x, t) = \\ \\frac{a}{2} \\cdot \\left( \\wedge \\left( \\frac{1 - \\frac{L}{2} - ct}{\\frac{L}{2}} \\right) + \\wedge \\left( \\frac{1 - \\frac{L}{2} + ct}{\\frac{L}{2}} \\right) \\right)$ "
   ]
  },
  {
   "cell_type": "code",
   "execution_count": 1,
   "metadata": {},
   "outputs": [],
   "source": [
    "# Librerías\n",
    "import numpy as np\n",
    "import math\n",
    "import matplotlib.pyplot as plt\n",
    "from matplotlib.animation import FuncAnimation\n",
    "from random import random\n",
    "import sounddevice as sd"
   ]
  },
  {
   "cell_type": "code",
   "execution_count": 6,
   "metadata": {},
   "outputs": [],
   "source": [
    "def triangulo(x):\n",
    "    return 2 * abs((x / 2) % 2 - 1) - 1\n",
    "\n",
    "def s(\n",
    "    x,  \n",
    "    t,\n",
    "    a = 1,                      # amplitud\n",
    "    L = 0.7,                    # largo de cuerda estándar\n",
    "    c = 1.8012 * (10 ** -4),    # velocidad\n",
    "    u = 3.09 * (10 ** -4),      # densidad de la cuerda\n",
    "    T = 56.4                    # tensión\n",
    "    ):\n",
    "    \n",
    "    c = math.sqrt(T / u)\n",
    "    \n",
    "    return (a / 2) * (triangulo((x - L / 2 - c * t) / (L / 2)) + triangulo((x - L / 2 + c * t) / (L / 2)))"
   ]
  },
  {
   "cell_type": "code",
   "execution_count": null,
   "metadata": {},
   "outputs": [],
   "source": [
    "'''\n",
    "fig, ax = plt.subplots()\n",
    "\n",
    "L = 0.648\n",
    "t = np.arange(0.0, 5, 0.001)\n",
    "s = s(L, t)\n",
    "l = plt.plot(t, s)\n",
    "\n",
    "ax = plt.axis([0, L, -1, 1])\n",
    "\n",
    "redDot, = plt.plot([L / 2], [s(L / 2, 0)], 'ro')\n",
    "\n",
    "def animate(i):\n",
    "    redDot.set_data(i, s(L, i))\n",
    "    return redDot,\n",
    "\n",
    "myAnimation = FuncAnimation(fig, animate, frames=np.arange(0.0, 5, 0.1), \\\n",
    "                                      interval=10, blit=True, repeat=True)\n",
    "\n",
    "plt.show()\n",
    "'''\n",
    "\n",
    "'''\n",
    "L = 0.648                       #largo de una cuerda estandar \n",
    "\n",
    "#--------------------------------------------------------------------------------------------------------------------------------\n",
    "\n",
    "\n",
    "list_x = np.linspace(0, 1000)\n",
    "fig, ax = plt.subplots()\n",
    "ax.set_ylim(-1, 1)\n",
    "def animate(i):\n",
    "    y = list(map(lambda x:s(x, i, L = 0.648), list_x))\n",
    "    ax.plot(list_x,y,color = \"green\")\n",
    "\n",
    "ani = FuncAnimation(fig, animate, frames = np.arange(0.0, 5.0, 0.2), interval = 10, repeat = True)\n",
    "plt.show()\n",
    "'''"
   ]
  },
  {
   "cell_type": "code",
   "execution_count": 38,
   "metadata": {},
   "outputs": [],
   "source": [
    "def s(\n",
    "    x,  \n",
    "    t,\n",
    "    a = 1,                      # amplitud\n",
    "    L = 0.7,                    # largo de cuerda estándar    \n",
    "    u = 3.09 * (10 ** -4),      # densidad de la cuerda\n",
    "    T = 56.4                    # tensión\n",
    "    ):\n",
    "    \n",
    "    c = math.sqrt(T / u)\n",
    "    \n",
    "    return (a / 2) * (triangulo((x - L / 2 - c * t) / (L / 2)) + triangulo((x - L / 2 + c * t) / (L / 2)))\n",
    "\n",
    "fm = 44100\n",
    "\n",
    "muestra = np.linspace(0, 5, 5 * fm)\n",
    "sonido = s(0.35, muestra, a = 0.02)"
   ]
  },
  {
   "cell_type": "code",
   "execution_count": 39,
   "metadata": {},
   "outputs": [],
   "source": [
    "def envolvente(x, t):\n",
    "    \n",
    "    guitarra = []\n",
    "    num = 0\n",
    "    aux = {\n",
    "        0: 0,\n",
    "        1: 0.064,\n",
    "        2: 0.154,\n",
    "        3: 0.604,\n",
    "        4: 1\n",
    "        }\n",
    "\n",
    "    for i in x:\n",
    "        \n",
    "        num += 1 / (fm * t)\n",
    "\n",
    "        if num >= aux[0] and num < aux[1]:\n",
    "            guitarra.append((i / 0.08) * num)\n",
    "        \n",
    "        elif num >= aux[1] and num < aux[2]:\n",
    "            guitarra.append(i * (1 - (1 / 0.185) * (num - 0.024)))\n",
    "        \n",
    "        elif num >= aux[2] and num < aux[3]:\n",
    "            guitarra.append(0.3 * i)\n",
    "        \n",
    "        elif num >= aux[3] and num < aux[4]:\n",
    "            guitarra.append(i * (0.3 - (1 / 1.3)) * (num - 0.604))\n",
    "        \n",
    "        else:\n",
    "            guitarra.append(0)\n",
    "    \n",
    "    return guitarra"
   ]
  },
  {
   "cell_type": "code",
   "execution_count": 43,
   "metadata": {},
   "outputs": [
    {
     "data": {
      "image/png": "[encoded data removed]",
      "text/plain": [
       "<Figure size 432x288 with 1 Axes>"
      ]
     },
     "metadata": {
      "needs_background": "light"
     },
     "output_type": "display_data"
    }
   ],
   "source": [
    "fig, ax = plt.subplots()\n",
    "ax.set_xlim(0,50000)\n",
    "plt.plot(envolvente(sonido,1),color = \"pink\")\n",
    "a = sd.play(envolvente(sonido, 1), fm)"
   ]
  }
 ],
 "metadata": {
  "kernelspec": {
   "display_name": "Python 3.8.10 64-bit",
   "language": "python",
   "name": "python3"
  },
  "language_info": {
   "codemirror_mode": {
    "name": "ipython",
    "version": 3
   },
   "file_extension": ".py",
   "mimetype": "text/x-python",
   "name": "python",
   "nbconvert_exporter": "python",
   "pygments_lexer": "ipython3",
   "version": "3.8.10"
  },
  "orig_nbformat": 4,
  "vscode": {
   "interpreter": {
    "hash": "4ab8475d39f405d60929586b9f06f56e9e79fe57daa6ba7a47db87d83c810b8e"
   }
  }
 },
 "nbformat": 4,
 "nbformat_minor": 2
}
